{
 "cells": [
  {
   "cell_type": "code",
   "execution_count": 1,
   "id": "12b28f4a",
   "metadata": {},
   "outputs": [
    {
     "name": "stderr",
     "output_type": "stream",
     "text": [
      "usage: ipykernel_launcher.py [-h] [db] [sql] [csv]\n",
      "ipykernel_launcher.py: error: unrecognized arguments: -f\n"
     ]
    },
    {
     "ename": "SystemExit",
     "evalue": "2",
     "output_type": "error",
     "traceback": [
      "An exception has occurred, use %tb to see the full traceback.\n",
      "\u001b[1;31mSystemExit\u001b[0m\u001b[1;31m:\u001b[0m 2\n"
     ]
    },
    {
     "name": "stderr",
     "output_type": "stream",
     "text": [
      "C:\\ProgramData\\anaconda3\\Lib\\site-packages\\IPython\\core\\interactiveshell.py:3534: UserWarning: To exit: use 'exit', 'quit', or Ctrl-D.\n",
      "  warn(\"To exit: use 'exit', 'quit', or Ctrl-D.\", stacklevel=1)\n"
     ]
    }
   ],
   "source": [
    "import sqlite3\n",
    "from sqlite3 import Error\n",
    "import pandas as pd\n",
    "import argparse\n",
    "import os\n",
    "\n",
    "# Python script to execute a SQL statement and store the results in a CSV file.\n",
    "#\n",
    "# Usage:\n",
    "#   python3 run_sql.py [path_to_db] [path_to_sql] [path_to_csv]\n",
    "#\n",
    "# Where:\n",
    "#\n",
    "#   path_to_db: the path to the sqlite3 database file. default is \n",
    "#               \"data/movies.db\"\n",
    "# \n",
    "#   path_to_sql: the path to the file containing the sql query. default is \n",
    "#               \"sql/horror_movies.sql\"\n",
    "# \n",
    "#   path_to_csv: the path to the csv file that will be created with the results \n",
    "#               of the query. default is \"data/movies.csv\"\n",
    "\n",
    "\n",
    "def get_paths() -> tuple:\n",
    "    \"\"\"Get the paths names from the arguments passed in\n",
    "    @return a tuple containing (path_to_db, path_to_sql, path_to_csv)\n",
    "    \"\"\"\n",
    "    parser = argparse.ArgumentParser()\n",
    "    parser.add_argument(\"db\", nargs=\"?\",\n",
    "                        help=\"path to the sqlite3 database file\", \n",
    "                        default=\"db/movies.db\")\n",
    "    parser.add_argument(\"sql\", nargs=\"?\",\n",
    "                        help=\"path to the file containing the sql query\",\n",
    "                        default=\"sql/horror_movies.sql\")\n",
    "    parser.add_argument(\"csv\", nargs=\"?\",\n",
    "                        help=\"path to the csv file that will be created\",\n",
    "                        default=\"data/movies.csv\")\n",
    "    args = parser.parse_args()\n",
    "    return args.db, args.sql, args.csv\n",
    "\n",
    "\n",
    "def create_connection(path_to_db_file: str) -> sqlite3.Connection:\n",
    "    \"\"\" create a database connection to the SQLite database\n",
    "        specified by db_file\n",
    "    :param db_file: database file\n",
    "    :return: Connection object or None\n",
    "    \"\"\"\n",
    "    conn = None\n",
    "    try:\n",
    "        conn = sqlite3.connect(path_to_db_file)\n",
    "        return conn\n",
    "    except Error as e:\n",
    "        print(e)\n",
    "\n",
    "    return conn\n",
    "\n",
    "\n",
    "def get_sql(file_path: str) -> str:\n",
    "    \"\"\"retrieve the SQL commands from a text file\n",
    "    @param: file_path - the path to the text file\n",
    "    @return: str - a string containing the contents of the file\"\"\"\n",
    "    fd = open(file_path, 'r')\n",
    "    sql = fd.read()\n",
    "    fd.close()\n",
    "\n",
    "    return sql\n",
    "\n",
    "\n",
    "def main() -> None:\n",
    "    path_to_db, path_to_sql, path_to_csv = get_paths()\n",
    "    conn = create_connection(path_to_db)\n",
    "    sql = get_sql(path_to_sql)\n",
    "    \n",
    "    if sql == \"-- Add your SQL here\" or sql == \"\":\n",
    "        print(\"Error: Add your sql to the sql/horror_movies.sql file before running.\")\n",
    "        exit(1)\n",
    "    \n",
    "    if conn is not None:\n",
    "        movies = pd.read_sql(sql, conn)\n",
    "\n",
    "        if len(movies) == 0:\n",
    "            print(\"Error: query did not return any results\")\n",
    "            exit(1)\n",
    "        csv_dir = os.path.dirname(path_to_csv)\n",
    "\n",
    "        if not os.path.exists(csv_dir):\n",
    "            os.makedirs(csv_dir)\n",
    "\n",
    "        movies.to_csv(path_to_csv, index=False)\n",
    "\n",
    "    else:\n",
    "        print(\"Error: Could not connect to database.\")\n",
    "        exit(1)\n",
    "        \n",
    "    conn.close()\n",
    "\n",
    "    return None\n",
    "\n",
    "\n",
    "if __name__ == \"__main__\":\n",
    "    main()"
   ]
  },
  {
   "cell_type": "code",
   "execution_count": null,
   "id": "ccd07129",
   "metadata": {},
   "outputs": [],
   "source": []
  }
 ],
 "metadata": {
  "kernelspec": {
   "display_name": "Python 3 (ipykernel)",
   "language": "python",
   "name": "python3"
  },
  "language_info": {
   "codemirror_mode": {
    "name": "ipython",
    "version": 3
   },
   "file_extension": ".py",
   "mimetype": "text/x-python",
   "name": "python",
   "nbconvert_exporter": "python",
   "pygments_lexer": "ipython3",
   "version": "3.11.5"
  }
 },
 "nbformat": 4,
 "nbformat_minor": 5
}
